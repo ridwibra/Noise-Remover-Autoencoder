{
  "cells": [
    {
      "cell_type": "markdown",
      "metadata": {
        "id": "view-in-github",
        "colab_type": "text"
      },
      "source": [
        "<a href=\"https://colab.research.google.com/github/ridwibra/Noise-Remover-Autoencoder/blob/main/MNIST_Cleaning_Autoencoder.ipynb\" target=\"_parent\"><img src=\"https://colab.research.google.com/assets/colab-badge.svg\" alt=\"Open In Colab\"/></a>"
      ]
    },
    {
      "cell_type": "code",
      "source": [
        "import pandas as pd\n",
        "import numpy as np\n",
        "import matplotlib.pyplot as plt\n",
        "from tensorflow.keras.datasets import mnist"
      ],
      "metadata": {
        "id": "QMUbetTraYpE"
      },
      "execution_count": 1,
      "outputs": []
    },
    {
      "cell_type": "code",
      "source": [
        "(X_train, y_train), (X_test, y_test) = mnist.load_data()"
      ],
      "metadata": {
        "colab": {
          "base_uri": "https://localhost:8080/"
        },
        "id": "TZZ9PmIBbfwS",
        "outputId": "b7cb6922-545a-40b2-df37-1ad37668cfa0"
      },
      "execution_count": 2,
      "outputs": [
        {
          "output_type": "stream",
          "name": "stdout",
          "text": [
            "Downloading data from https://storage.googleapis.com/tensorflow/tf-keras-datasets/mnist.npz\n",
            "11493376/11490434 [==============================] - 0s 0us/step\n",
            "11501568/11490434 [==============================] - 0s 0us/step\n"
          ]
        }
      ]
    },
    {
      "cell_type": "code",
      "source": [
        "plt.imshow(X_train[0])"
      ],
      "metadata": {
        "colab": {
          "base_uri": "https://localhost:8080/",
          "height": 282
        },
        "id": "QV1teXgAbrV9",
        "outputId": "4951ba0c-dede-4d66-a8f0-b396d4361c3b"
      },
      "execution_count": 3,
      "outputs": [
        {
          "output_type": "execute_result",
          "data": {
            "text/plain": [
              "<matplotlib.image.AxesImage at 0x7fe61ed996d0>"
            ]
          },
          "metadata": {},
          "execution_count": 3
        },
        {
          "output_type": "display_data",
          "data": {
            "text/plain": [
              "<Figure size 432x288 with 1 Axes>"
            ],
            "image/png": "[encoded data removed]"
          },
          "metadata": {
            "needs_background": "light"
          }
        }
      ]
    },
    {
      "cell_type": "code",
      "source": [
        "X_train = X_train/255"
      ],
      "metadata": {
        "id": "f4WlH4Wxbxkj"
      },
      "execution_count": 4,
      "outputs": []
    },
    {
      "cell_type": "code",
      "source": [
        "X_test = X_test/255"
      ],
      "metadata": {
        "id": "inOZejSGb69o"
      },
      "execution_count": 5,
      "outputs": []
    },
    {
      "cell_type": "code",
      "source": [
        "from tensorflow.keras.models import Sequential\n",
        "from tensorflow.keras.layers import Dense, Flatten, Reshape, GaussianNoise\n",
        "from tensorflow.keras.optimizers import SGD"
      ],
      "metadata": {
        "id": "4YOzo-0Rb_h2"
      },
      "execution_count": 6,
      "outputs": []
    },
    {
      "cell_type": "code",
      "source": [
        "X_train[0].shape"
      ],
      "metadata": {
        "colab": {
          "base_uri": "https://localhost:8080/"
        },
        "id": "yWBhhzqqc92R",
        "outputId": "29704776-4e4a-47b1-acf2-e67af9a45183"
      },
      "execution_count": 7,
      "outputs": [
        {
          "output_type": "execute_result",
          "data": {
            "text/plain": [
              "(28, 28)"
            ]
          },
          "metadata": {},
          "execution_count": 7
        }
      ]
    },
    {
      "cell_type": "code",
      "source": [
        "28*28"
      ],
      "metadata": {
        "colab": {
          "base_uri": "https://localhost:8080/"
        },
        "id": "7Mv0oaZLeGi_",
        "outputId": "265ecf83-19a8-4436-ec2a-a4219a39af90"
      },
      "execution_count": 8,
      "outputs": [
        {
          "output_type": "execute_result",
          "data": {
            "text/plain": [
              "784"
            ]
          },
          "metadata": {},
          "execution_count": 8
        }
      ]
    },
    {
      "cell_type": "code",
      "source": [
        "noise = GaussianNoise(0.2)"
      ],
      "metadata": {
        "id": "hkO4ul_wmfcF"
      },
      "execution_count": 9,
      "outputs": []
    },
    {
      "cell_type": "code",
      "source": [
        "noisey = noise(X_test[:10], training = True)"
      ],
      "metadata": {
        "id": "SM6UxGg1mfYh"
      },
      "execution_count": 10,
      "outputs": []
    },
    {
      "cell_type": "code",
      "source": [
        "n = 0\n",
        "plt.imshow(X_test[n])\n",
        "plt.show()\n",
        "plt.imshow(noisey[n])"
      ],
      "metadata": {
        "colab": {
          "base_uri": "https://localhost:8080/",
          "height": 530
        },
        "id": "rfa5z7kCmfUx",
        "outputId": "7bd257eb-19ed-473f-917b-9dff531ec093"
      },
      "execution_count": 11,
      "outputs": [
        {
          "output_type": "display_data",
          "data": {
            "text/plain": [
              "<Figure size 432x288 with 1 Axes>"
            ],
            "image/png": "[encoded data removed]"
          },
          "metadata": {
            "needs_background": "light"
          }
        },
        {
          "output_type": "execute_result",
          "data": {
            "text/plain": [
              "<matplotlib.image.AxesImage at 0x7fe6105efdd0>"
            ]
          },
          "metadata": {},
          "execution_count": 11
        },
        {
          "output_type": "display_data",
          "data": {
            "text/plain": [
              "<Figure size 432x288 with 1 Axes>"
            ],
            "image/png": "[encoded data removed]"
          },
          "metadata": {
            "needs_background": "light"
          }
        }
      ]
    },
    {
      "cell_type": "code",
      "source": [
        "encoder = Sequential()\n",
        "encoder.add(Flatten(input_shape=[28,28]))\n",
        "encoder.add(GaussianNoise(0.2))\n",
        "encoder.add(Dense(400, activation='relu'))\n",
        "encoder.add(Dense(200, activation='relu'))\n",
        "encoder.add(Dense(100, activation='relu'))\n",
        "encoder.add(Dense(50, activation='relu'))\n",
        "encoder.add(Dense(25, activation='relu'))"
      ],
      "metadata": {
        "id": "c7g_F6b-cZCB"
      },
      "execution_count": 12,
      "outputs": []
    },
    {
      "cell_type": "code",
      "source": [
        "decoder = Sequential()\n",
        "decoder.add(Dense(50, input_shape=[25], activation='relu'))\n",
        "decoder.add(Dense(100, activation='relu'))\n",
        "decoder.add(Dense(200, activation='relu'))\n",
        "decoder.add(Dense(400, activation='relu'))\n",
        "decoder.add(Dense(28*28, activation='sigmoid'))\n",
        "decoder.add(Reshape([28,28]))"
      ],
      "metadata": {
        "id": "_wVkHedsdi4h"
      },
      "execution_count": 13,
      "outputs": []
    },
    {
      "cell_type": "code",
      "source": [
        "autoencoder = Sequential([encoder, decoder])"
      ],
      "metadata": {
        "id": "ehXyzf0wexwl"
      },
      "execution_count": 14,
      "outputs": []
    },
    {
      "cell_type": "code",
      "source": [
        "autoencoder.compile(loss='binary_crossentropy', optimizer='adam', metrics=['accuracy'])"
      ],
      "metadata": {
        "id": "UIs9SP9ee4JX"
      },
      "execution_count": 15,
      "outputs": []
    },
    {
      "cell_type": "code",
      "source": [
        "autoencoder.fit(X_train, X_train, epochs=30, validation_data=[X_test, X_test])"
      ],
      "metadata": {
        "colab": {
          "base_uri": "https://localhost:8080/"
        },
        "id": "9svsXoqVfHOG",
        "outputId": "c0588b01-0298-43e7-f376-339be271ac60"
      },
      "execution_count": 16,
      "outputs": [
        {
          "output_type": "stream",
          "name": "stdout",
          "text": [
            "Epoch 1/30\n",
            "1875/1875 [==============================] - 16s 7ms/step - loss: 0.1722 - accuracy: 0.1795 - val_loss: 0.1347 - val_accuracy: 0.2183\n",
            "Epoch 2/30\n",
            "1875/1875 [==============================] - 12s 6ms/step - loss: 0.1304 - accuracy: 0.2292 - val_loss: 0.1199 - val_accuracy: 0.2375\n",
            "Epoch 3/30\n",
            "1875/1875 [==============================] - 12s 6ms/step - loss: 0.1214 - accuracy: 0.2444 - val_loss: 0.1157 - val_accuracy: 0.2463\n",
            "Epoch 4/30\n",
            "1875/1875 [==============================] - 12s 7ms/step - loss: 0.1170 - accuracy: 0.2526 - val_loss: 0.1114 - val_accuracy: 0.2606\n",
            "Epoch 5/30\n",
            "1875/1875 [==============================] - 12s 7ms/step - loss: 0.1128 - accuracy: 0.2604 - val_loss: 0.1069 - val_accuracy: 0.2623\n",
            "Epoch 6/30\n",
            "1875/1875 [==============================] - 12s 7ms/step - loss: 0.1095 - accuracy: 0.2660 - val_loss: 0.1051 - val_accuracy: 0.2628\n",
            "Epoch 7/30\n",
            "1875/1875 [==============================] - 12s 6ms/step - loss: 0.1070 - accuracy: 0.2699 - val_loss: 0.1032 - val_accuracy: 0.2713\n",
            "Epoch 8/30\n",
            "1875/1875 [==============================] - 12s 7ms/step - loss: 0.1053 - accuracy: 0.2744 - val_loss: 0.1008 - val_accuracy: 0.2719\n",
            "Epoch 9/30\n",
            "1875/1875 [==============================] - 12s 7ms/step - loss: 0.1039 - accuracy: 0.2772 - val_loss: 0.1006 - val_accuracy: 0.2749\n",
            "Epoch 10/30\n",
            "1875/1875 [==============================] - 12s 6ms/step - loss: 0.1028 - accuracy: 0.2813 - val_loss: 0.0982 - val_accuracy: 0.2798\n",
            "Epoch 11/30\n",
            "1875/1875 [==============================] - 12s 6ms/step - loss: 0.1018 - accuracy: 0.2842 - val_loss: 0.0981 - val_accuracy: 0.2844\n",
            "Epoch 12/30\n",
            "1875/1875 [==============================] - 12s 6ms/step - loss: 0.1011 - accuracy: 0.2862 - val_loss: 0.0974 - val_accuracy: 0.2810\n",
            "Epoch 13/30\n",
            "1875/1875 [==============================] - 12s 7ms/step - loss: 0.1001 - accuracy: 0.2884 - val_loss: 0.0975 - val_accuracy: 0.2901\n",
            "Epoch 14/30\n",
            "1875/1875 [==============================] - 13s 7ms/step - loss: 0.0994 - accuracy: 0.2902 - val_loss: 0.0969 - val_accuracy: 0.2898\n",
            "Epoch 15/30\n",
            "1875/1875 [==============================] - 13s 7ms/step - loss: 0.0988 - accuracy: 0.2916 - val_loss: 0.0944 - val_accuracy: 0.2877\n",
            "Epoch 16/30\n",
            "1875/1875 [==============================] - 12s 6ms/step - loss: 0.0980 - accuracy: 0.2928 - val_loss: 0.0942 - val_accuracy: 0.2960\n",
            "Epoch 17/30\n",
            "1875/1875 [==============================] - 12s 6ms/step - loss: 0.0973 - accuracy: 0.2943 - val_loss: 0.0934 - val_accuracy: 0.2968\n",
            "Epoch 18/30\n",
            "1875/1875 [==============================] - 12s 6ms/step - loss: 0.0966 - accuracy: 0.2950 - val_loss: 0.0941 - val_accuracy: 0.3003\n",
            "Epoch 19/30\n",
            "1875/1875 [==============================] - 12s 7ms/step - loss: 0.0962 - accuracy: 0.2968 - val_loss: 0.0935 - val_accuracy: 0.2993\n",
            "Epoch 20/30\n",
            "1875/1875 [==============================] - 12s 7ms/step - loss: 0.0957 - accuracy: 0.2980 - val_loss: 0.0938 - val_accuracy: 0.2910\n",
            "Epoch 21/30\n",
            "1875/1875 [==============================] - 12s 7ms/step - loss: 0.0951 - accuracy: 0.2998 - val_loss: 0.0929 - val_accuracy: 0.3024\n",
            "Epoch 22/30\n",
            "1875/1875 [==============================] - 13s 7ms/step - loss: 0.0947 - accuracy: 0.3014 - val_loss: 0.0919 - val_accuracy: 0.2951\n",
            "Epoch 23/30\n",
            "1875/1875 [==============================] - 13s 7ms/step - loss: 0.0944 - accuracy: 0.3033 - val_loss: 0.0927 - val_accuracy: 0.2944\n",
            "Epoch 24/30\n",
            "1875/1875 [==============================] - 12s 7ms/step - loss: 0.0940 - accuracy: 0.3033 - val_loss: 0.0924 - val_accuracy: 0.3029\n",
            "Epoch 25/30\n",
            "1875/1875 [==============================] - 12s 7ms/step - loss: 0.0936 - accuracy: 0.3050 - val_loss: 0.0903 - val_accuracy: 0.3081\n",
            "Epoch 26/30\n",
            "1875/1875 [==============================] - 13s 7ms/step - loss: 0.0933 - accuracy: 0.3050 - val_loss: 0.0901 - val_accuracy: 0.3014\n",
            "Epoch 27/30\n",
            "1875/1875 [==============================] - 12s 6ms/step - loss: 0.0930 - accuracy: 0.3064 - val_loss: 0.0919 - val_accuracy: 0.3103\n",
            "Epoch 28/30\n",
            "1875/1875 [==============================] - 12s 6ms/step - loss: 0.0928 - accuracy: 0.3069 - val_loss: 0.0896 - val_accuracy: 0.3027\n",
            "Epoch 29/30\n",
            "1875/1875 [==============================] - 12s 6ms/step - loss: 0.0927 - accuracy: 0.3075 - val_loss: 0.0895 - val_accuracy: 0.3025\n",
            "Epoch 30/30\n",
            "1875/1875 [==============================] - 12s 6ms/step - loss: 0.0923 - accuracy: 0.3083 - val_loss: 0.0898 - val_accuracy: 0.3041\n"
          ]
        },
        {
          "output_type": "execute_result",
          "data": {
            "text/plain": [
              "<keras.callbacks.History at 0x7fe6103cfbd0>"
            ]
          },
          "metadata": {},
          "execution_count": 16
        }
      ]
    },
    {
      "cell_type": "code",
      "source": [
        "ten_noisey_images = noise(X_test[:10], training=True)"
      ],
      "metadata": {
        "id": "oO062TQ3n0jx"
      },
      "execution_count": 17,
      "outputs": []
    },
    {
      "cell_type": "code",
      "source": [
        "denoised = autoencoder(ten_noisey_images)"
      ],
      "metadata": {
        "id": "mQVECt1eoHHt"
      },
      "execution_count": 18,
      "outputs": []
    },
    {
      "cell_type": "code",
      "source": [
        "n = 4\n",
        "print(\"original image\")\n",
        "plt.imshow(X_test[n])\n",
        "plt.show()\n",
        "print(\"image after noise was added\")\n",
        "plt.imshow(ten_noisey_images[n])\n",
        "plt.show()\n",
        "print(\"image after noise was removed\")\n",
        "plt.imshow(denoised[n])\n",
        "plt.show()"
      ],
      "metadata": {
        "colab": {
          "base_uri": "https://localhost:8080/",
          "height": 813
        },
        "id": "eTX3F_8_faUb",
        "outputId": "d772b124-a907-451e-ccde-7482a4bdea50"
      },
      "execution_count": 25,
      "outputs": [
        {
          "output_type": "stream",
          "name": "stdout",
          "text": [
            "original image\n"
          ]
        },
        {
          "output_type": "display_data",
          "data": {
            "text/plain": [
              "<Figure size 432x288 with 1 Axes>"
            ],
            "image/png": "[encoded data removed]"
          },
          "metadata": {
            "needs_background": "light"
          }
        },
        {
          "output_type": "stream",
          "name": "stdout",
          "text": [
            "image after noise was added\n"
          ]
        },
        {
          "output_type": "display_data",
          "data": {
            "text/plain": [
              "<Figure size 432x288 with 1 Axes>"
            ],
            "image/png": "[encoded data removed]"
          },
          "metadata": {
            "needs_background": "light"
          }
        },
        {
          "output_type": "stream",
          "name": "stdout",
          "text": [
            "image after noise was removed\n"
          ]
        },
        {
          "output_type": "display_data",
          "data": {
            "text/plain": [
              "<Figure size 432x288 with 1 Axes>"
            ],
            "image/png": "[encoded data removed]"
          },
          "metadata": {
            "needs_background": "light"
          }
        }
      ]
    },
    {
      "cell_type": "code",
      "source": [
        ""
      ],
      "metadata": {
        "id": "6yR53-jrfx6z"
      },
      "execution_count": 19,
      "outputs": []
    },
    {
      "cell_type": "code",
      "source": [
        ""
      ],
      "metadata": {
        "id": "MityZs1-f_G1"
      },
      "execution_count": 19,
      "outputs": []
    }
  ],
  "metadata": {
    "colab": {
      "collapsed_sections": [],
      "name": "MNIST Cleaning Autoencoder",
      "provenance": [],
      "authorship_tag": "ABX9TyPxCYZ1/x5o17bP+OsoK9QH",
      "include_colab_link": true
    },
    "kernelspec": {
      "display_name": "Python 3",
      "name": "python3"
    },
    "language_info": {
      "name": "python"
    },
    "accelerator": "GPU"
  },
  "nbformat": 4,
  "nbformat_minor": 0
}